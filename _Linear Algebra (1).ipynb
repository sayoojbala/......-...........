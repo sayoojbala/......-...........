{
 "cells": [
  {
   "cell_type": "code",
   "execution_count": 1,
   "metadata": {},
   "outputs": [],
   "source": [
    "from numpy import linalg as LA\n",
    "import numpy as np\n"
   ]
  },
  {
   "cell_type": "code",
   "execution_count": 2,
   "metadata": {},
   "outputs": [],
   "source": [
    "A = np.array([[1,2,3],[3,2,1],[1,0,-1]])\n"
   ]
  },
  {
   "cell_type": "code",
   "execution_count": 3,
   "metadata": {},
   "outputs": [],
   "source": [
    "values, vectors = LA.eig(A)"
   ]
  },
  {
   "cell_type": "code",
   "execution_count": 4,
   "metadata": {},
   "outputs": [
    {
     "data": {
      "text/plain": [
       "array([ 4.31662479e+00, -2.31662479e+00,  1.47314580e-16])"
      ]
     },
     "execution_count": 4,
     "metadata": {},
     "output_type": "execute_result"
    }
   ],
   "source": [
    "values"
   ]
  },
  {
   "cell_type": "code",
   "execution_count": 5,
   "metadata": {},
   "outputs": [
    {
     "data": {
      "text/plain": [
       "array([[ 0.58428153,  0.73595785,  0.40824829],\n",
       "       [ 0.80407569, -0.38198836, -0.81649658],\n",
       "       [ 0.10989708, -0.55897311,  0.40824829]])"
      ]
     },
     "execution_count": 5,
     "metadata": {},
     "output_type": "execute_result"
    }
   ],
   "source": [
    "vectors"
   ]
  },
  {
   "cell_type": "markdown",
   "metadata": {},
   "source": [
    "## Prove A*eigenvector = eigenvalue * eigenvectors"
   ]
  },
  {
   "cell_type": "code",
   "execution_count": 6,
   "metadata": {},
   "outputs": [
    {
     "data": {
      "text/plain": [
       "array([[ 2.52212416e+00, -1.70493820e+00, -1.66533454e-16],\n",
       "       [ 3.47089307e+00,  8.84923713e-01,  3.88578059e-16],\n",
       "       [ 4.74384456e-01,  1.29493096e+00,  2.77555756e-16]])"
      ]
     },
     "execution_count": 6,
     "metadata": {},
     "output_type": "execute_result"
    }
   ],
   "source": [
    "np.dot(A,vectors)#mult"
   ]
  },
  {
   "cell_type": "code",
   "execution_count": 7,
   "metadata": {},
   "outputs": [
    {
     "data": {
      "text/plain": [
       "array([[ 2.52212416e+00, -1.70493820e+00,  6.01409256e-17],\n",
       "       [ 3.47089307e+00,  8.84923713e-01, -1.20281851e-16],\n",
       "       [ 4.74384456e-01,  1.29493096e+00,  6.01409256e-17]])"
      ]
     },
     "execution_count": 7,
     "metadata": {},
     "output_type": "execute_result"
    }
   ],
   "source": [
    "vectors*values#dot product"
   ]
  },
  {
   "cell_type": "code",
   "execution_count": null,
   "metadata": {},
   "outputs": [],
   "source": []
  },
  {
   "cell_type": "code",
   "execution_count": 9,
   "metadata": {},
   "outputs": [
    {
     "data": {
      "text/plain": [
       "array([[ 2.52212416e+00, -1.70493820e+00,  6.01409256e-17],\n",
       "       [ 3.47089307e+00,  8.84923713e-01, -1.20281851e-16],\n",
       "       [ 4.74384456e-01,  1.29493096e+00,  6.01409256e-17]])"
      ]
     },
     "execution_count": 9,
     "metadata": {},
     "output_type": "execute_result"
    }
   ],
   "source": [
    "aa=np.dot(vectors,np.diag(values))\n",
    "aa"
   ]
  },
  {
   "cell_type": "code",
   "execution_count": 10,
   "metadata": {},
   "outputs": [
    {
     "data": {
      "text/plain": [
       "array([[ 1.00000000e+00,  2.00000000e+00,  3.00000000e+00],\n",
       "       [ 3.00000000e+00,  2.00000000e+00,  1.00000000e+00],\n",
       "       [ 1.00000000e+00,  3.03603991e-16, -1.00000000e+00]])"
      ]
     },
     "execution_count": 10,
     "metadata": {},
     "output_type": "execute_result"
    }
   ],
   "source": [
    "np.dot(aa,np.linalg.inv(vectors))"
   ]
  },
  {
   "cell_type": "markdown",
   "metadata": {},
   "source": [
    "The Moore-Penrose Pseudoinverse\n",
    "A+= VD+U.T"
   ]
  },
  {
   "cell_type": "code",
   "execution_count": 11,
   "metadata": {},
   "outputs": [],
   "source": [
    "import numpy as np"
   ]
  },
  {
   "cell_type": "code",
   "execution_count": 12,
   "metadata": {},
   "outputs": [],
   "source": [
    "a = np.random.randn(9, 6)"
   ]
  },
  {
   "cell_type": "code",
   "execution_count": 13,
   "metadata": {},
   "outputs": [],
   "source": [
    " B = np.linalg.pinv(a)"
   ]
  },
  {
   "cell_type": "code",
   "execution_count": 14,
   "metadata": {},
   "outputs": [
    {
     "data": {
      "text/plain": [
       "True"
      ]
     },
     "execution_count": 14,
     "metadata": {},
     "output_type": "execute_result"
    }
   ],
   "source": [
    "np.allclose(a, np.dot(a, np.dot(B, a)))"
   ]
  },
  {
   "cell_type": "code",
   "execution_count": 15,
   "metadata": {},
   "outputs": [
    {
     "data": {
      "text/plain": [
       "array([[-1.95621227e-01, -6.41922165e-02, -1.39432000e-01,\n",
       "        -2.77342466e-01,  3.26814905e-01,  2.26214426e-01,\n",
       "         2.84605984e-01, -5.35256836e-01,  1.08627557e-01],\n",
       "       [ 1.35021231e-01,  1.60962677e-01,  2.97275913e-01,\n",
       "        -2.57677244e-01,  1.18600791e-01, -1.14514273e-01,\n",
       "         3.43533840e-02, -2.02754983e-02,  9.06276666e-02],\n",
       "       [-1.09164138e-01, -5.31883610e-04, -6.05019171e-02,\n",
       "         1.17203423e-01,  8.42122233e-02,  2.58901546e-01,\n",
       "         1.38157303e-01, -2.16855562e-01,  2.33381911e-01],\n",
       "       [-3.14337596e-01,  1.75836662e-01, -5.30523785e-02,\n",
       "        -2.51217601e-01,  2.24803143e-01,  4.16204620e-01,\n",
       "         4.71085821e-01, -2.17303128e-01, -7.81287760e-02],\n",
       "       [-3.33303824e-01,  1.69062487e-01, -4.74876346e-01,\n",
       "         1.37595668e-01,  1.06592166e-01, -9.17401299e-02,\n",
       "         1.79407288e-01, -1.98673116e-01, -5.35781065e-02],\n",
       "       [ 1.31081938e-01, -3.15257578e-01,  5.50151488e-02,\n",
       "         4.18145447e-01, -5.07641017e-01,  3.74468427e-02,\n",
       "        -1.55672914e-01, -1.86384937e-01,  8.64358894e-02]])"
      ]
     },
     "execution_count": 15,
     "metadata": {},
     "output_type": "execute_result"
    }
   ],
   "source": [
    "B"
   ]
  },
  {
   "cell_type": "code",
   "execution_count": null,
   "metadata": {},
   "outputs": [],
   "source": []
  },
  {
   "cell_type": "markdown",
   "metadata": {},
   "source": [
    "The determinant is equal to the product of all theeigenvalues of the matrix. "
   ]
  },
  {
   "cell_type": "markdown",
   "metadata": {},
   "source": [
    "# Principal Components Analysis"
   ]
  },
  {
   "cell_type": "code",
   "execution_count": 17,
   "metadata": {},
   "outputs": [],
   "source": [
    "A = np.array([[1, 2,3], [3, 4,5], [5, 6,7],[10,22,14]])"
   ]
  },
  {
   "cell_type": "code",
   "execution_count": 18,
   "metadata": {},
   "outputs": [
    {
     "data": {
      "text/plain": [
       "array([4.75, 8.5 , 7.25])"
      ]
     },
     "execution_count": 18,
     "metadata": {},
     "output_type": "execute_result"
    }
   ],
   "source": [
    "M = np.mean(A.T, axis=1)\n",
    "M"
   ]
  },
  {
   "cell_type": "markdown",
   "metadata": {},
   "source": [
    "Next, we need to center the values in each column by subtracting the mean column value"
   ]
  },
  {
   "cell_type": "code",
   "execution_count": 19,
   "metadata": {},
   "outputs": [
    {
     "data": {
      "text/plain": [
       "array([[-3.75, -6.5 , -4.25],\n",
       "       [-1.75, -4.5 , -2.25],\n",
       "       [ 0.25, -2.5 , -0.25],\n",
       "       [ 5.25, 13.5 ,  6.75]])"
      ]
     },
     "execution_count": 19,
     "metadata": {},
     "output_type": "execute_result"
    }
   ],
   "source": [
    "C = A - M\n",
    "C"
   ]
  },
  {
   "cell_type": "markdown",
   "metadata": {},
   "source": [
    "Correlation is a normalized measure of the amount and direction (positive or negative) that two columns change together. Covariance is a generalized and unnormalized version of correlation across multiple columns. A covariance matrix is a calculation of covariance of a given matrix with covariance scores for every column with every other column, including itself."
   ]
  },
  {
   "cell_type": "code",
   "execution_count": 20,
   "metadata": {},
   "outputs": [],
   "source": [
    "V = np.cov(C.T)"
   ]
  },
  {
   "cell_type": "code",
   "execution_count": 21,
   "metadata": {},
   "outputs": [
    {
     "data": {
      "text/plain": [
       "array([[14.91666667, 34.16666667, 18.41666667],\n",
       "       [34.16666667, 83.66666667, 43.16666667],\n",
       "       [18.41666667, 43.16666667, 22.91666667]])"
      ]
     },
     "execution_count": 21,
     "metadata": {},
     "output_type": "execute_result"
    }
   ],
   "source": [
    "V"
   ]
  },
  {
   "cell_type": "markdown",
   "metadata": {},
   "source": [
    "Finally, we calculate the eigendecomposition of the covariance matrix V. This results in a list of eigenvalues and a list of eigenvectors."
   ]
  },
  {
   "cell_type": "code",
   "execution_count": 23,
   "metadata": {},
   "outputs": [],
   "source": [
    "values, vectors = LA.eig(V)\n"
   ]
  },
  {
   "cell_type": "code",
   "execution_count": 24,
   "metadata": {},
   "outputs": [
    {
     "data": {
      "text/plain": [
       "array([1.20358969e+02, 1.14103116e+00, 6.47749343e-16])"
      ]
     },
     "execution_count": 24,
     "metadata": {},
     "output_type": "execute_result"
    }
   ],
   "source": [
    "values"
   ]
  },
  {
   "cell_type": "code",
   "execution_count": 25,
   "metadata": {},
   "outputs": [
    {
     "data": {
      "text/plain": [
       "array([[-0.34541767, -0.69819965, -0.62705971],\n",
       "       [-0.83211227,  0.53681626, -0.1393466 ],\n",
       "       [-0.4339076 , -0.4736513 ,  0.76640632]])"
      ]
     },
     "execution_count": 25,
     "metadata": {},
     "output_type": "execute_result"
    }
   ],
   "source": [
    "vectors"
   ]
  },
  {
   "cell_type": "markdown",
   "metadata": {},
   "source": [
    "Checking the eigenvector-eigenvalue calculation"
   ]
  },
  {
   "cell_type": "code",
   "execution_count": 26,
   "metadata": {},
   "outputs": [],
   "source": [
    "for i in range(len(values)):\n",
    "    eigv = vectors[:,i].reshape(1,3).T\n",
    "    np.testing.assert_array_almost_equal(V.dot(eigv), values[i] * eigv,\n",
    "                                         decimal=6, err_msg='', verbose=True)"
   ]
  },
  {
   "cell_type": "code",
   "execution_count": 27,
   "metadata": {},
   "outputs": [
    {
     "data": {
      "text/plain": [
       "array([[-0.62705971],\n",
       "       [-0.1393466 ],\n",
       "       [ 0.76640632]])"
      ]
     },
     "execution_count": 27,
     "metadata": {},
     "output_type": "execute_result"
    }
   ],
   "source": [
    "eigv"
   ]
  },
  {
   "cell_type": "markdown",
   "metadata": {},
   "source": [
    "where we are reducing a 3-dimensional feature space to a 2-dimensional feature subspace, we are combining the two eigenvectors with the highest eigenvalues to construct our d×k-dimensional eigenvector matrix W"
   ]
  },
  {
   "cell_type": "code",
   "execution_count": 28,
   "metadata": {},
   "outputs": [],
   "source": [
    "P = vectors[:,:-1].T.dot(C.T)"
   ]
  },
  {
   "cell_type": "code",
   "execution_count": 29,
   "metadata": {},
   "outputs": [
    {
     "data": {
      "text/plain": [
       "array([[  8.5481533 ,   1.14196107],\n",
       "       [  5.32527823,  -0.12810833],\n",
       "       [  2.10240316,  -1.39817772],\n",
       "       [-15.9758347 ,   0.38432499]])"
      ]
     },
     "execution_count": 29,
     "metadata": {},
     "output_type": "execute_result"
    }
   ],
   "source": [
    "P.T"
   ]
  },
  {
   "cell_type": "code",
   "execution_count": 30,
   "metadata": {},
   "outputs": [
    {
     "name": "stdout",
     "output_type": "stream",
     "text": [
      "[[ 1  2  3]\n",
      " [ 3  4  5]\n",
      " [ 5  6  7]\n",
      " [10 22 14]]\n",
      "[[ 0.34541767  0.83211227  0.4339076 ]\n",
      " [ 0.69819965 -0.53681626  0.4736513 ]]\n",
      "[120.35896884   1.14103116]\n",
      "[[-8.5481533  -1.14196107]\n",
      " [-5.32527823  0.12810833]\n",
      " [-2.10240316  1.39817772]\n",
      " [15.9758347  -0.38432499]]\n"
     ]
    }
   ],
   "source": [
    "\n",
    "from numpy import array\n",
    "from sklearn.decomposition import PCA\n",
    "# define a matrix\n",
    "print(A)\n",
    "# create the PCA instance\n",
    "pca = PCA(2)\n",
    "# fit on data\n",
    "pca.fit(A)\n",
    "# access values and vectors\n",
    "print(pca.components_)\n",
    "print(pca.explained_variance_)\n",
    "# transform data\n",
    "B = pca.transform(A)\n",
    "print(B)"
   ]
  },
  {
   "cell_type": "code",
   "execution_count": null,
   "metadata": {},
   "outputs": [],
   "source": []
  },
  {
   "cell_type": "code",
   "execution_count": null,
   "metadata": {},
   "outputs": [],
   "source": []
  }
 ],
 "metadata": {
  "kernelspec": {
   "display_name": "Python 3",
   "language": "python",
   "name": "python3"
  },
  "language_info": {
   "codemirror_mode": {
    "name": "ipython",
    "version": 3
   },
   "file_extension": ".py",
   "mimetype": "text/x-python",
   "name": "python",
   "nbconvert_exporter": "python",
   "pygments_lexer": "ipython3",
   "version": "3.6.5"
  }
 },
 "nbformat": 4,
 "nbformat_minor": 2
}
